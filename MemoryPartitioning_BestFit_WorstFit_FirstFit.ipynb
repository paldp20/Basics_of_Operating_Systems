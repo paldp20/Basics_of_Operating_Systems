{
  "nbformat": 4,
  "nbformat_minor": 0,
  "metadata": {
    "colab": {
      "provenance": []
    },
    "kernelspec": {
      "name": "python3",
      "display_name": "Python 3"
    },
    "language_info": {
      "name": "python"
    }
  },
  "cells": [
    {
      "cell_type": "markdown",
      "source": [
        "###Memory partitioning"
      ],
      "metadata": {
        "id": "SeOG8X8V-ABI"
      }
    },
    {
      "cell_type": "code",
      "source": [
        "#Best fit\n",
        "blockSize = list(map(int,input(\"Enter block sizes:\").split()))\n",
        "processSize = list(map(int,input(\"Enter process sizes:\").split()))\n",
        "m = len(blockSize)\n",
        "n = len(processSize)\n",
        "allocation=[-1]*n\n",
        "for i in range(n):\n",
        "        best = -1\n",
        "        for j in range(m):\n",
        "            if blockSize[j] >= processSize[i]:\n",
        "                if best == -1:\n",
        "                    best = j\n",
        "                elif blockSize[best] > blockSize[j]:\n",
        "                    best = j\n",
        "        if best != -1:\n",
        "            allocation[i] = best\n",
        "            blockSize[best] -= processSize[i]\n",
        "for i in range(n):\n",
        "    print(\"Process No.: \",i+1)\n",
        "    print(\"Process size: \",processSize[i])\n",
        "    if allocation[i] != -1:\n",
        "        print(\"Memory block: \",allocation[i] + 1)\n",
        "        print()\n",
        "    else:\n",
        "        print(\"Not Allocated\")\n",
        "        print()"
      ],
      "metadata": {
        "colab": {
          "base_uri": "https://localhost:8080/"
        },
        "id": "JQ0GakYF8g9x",
        "outputId": "0399ac35-1b8f-4bf6-9b08-9d6aed8b892b"
      },
      "execution_count": 6,
      "outputs": [
        {
          "output_type": "stream",
          "name": "stdout",
          "text": [
            "Enter block sizes:100 500 200 300 600\n",
            "Enter process sizes:212 417 112 426\n",
            "Process No.:  1\n",
            "Process size:  212\n",
            "Memory block:  4\n",
            "\n",
            "Process No.:  2\n",
            "Process size:  417\n",
            "Memory block:  2\n",
            "\n",
            "Process No.:  3\n",
            "Process size:  112\n",
            "Memory block:  3\n",
            "\n",
            "Process No.:  4\n",
            "Process size:  426\n",
            "Memory block:  5\n",
            "\n"
          ]
        }
      ]
    },
    {
      "cell_type": "code",
      "source": [
        "#Worst fit\n",
        "blockSize = list(map(int,input(\"Enter block sizes:\").split()))\n",
        "processSize = list(map(int,input(\"Enter process sizes:\").split()))\n",
        "m = len(blockSize)\n",
        "n = len(processSize)\n",
        "allocation = [-1] * n\n",
        "for i in range(n):\n",
        "    w = -1\n",
        "    for j in range(m):\n",
        "        if blockSize[j] >= processSize[i]:\n",
        "            if w == -1:\n",
        "                w = j\n",
        "            elif blockSize[w] < blockSize[j]:\n",
        "                w = j\n",
        "    if w != -1:\n",
        "        allocation[i] = w\n",
        "        blockSize[w] -= processSize[i]\n",
        "for i in range(n):\n",
        "    print(\"Process No.: \",i+1)\n",
        "    print(\"Process size: \",processSize[i])\n",
        "    if allocation[i] != -1:\n",
        "        print(\"Memory block: \",allocation[i] + 1)\n",
        "        print()\n",
        "    else:\n",
        "        print(\"Not Allocated\")\n",
        "        print()"
      ],
      "metadata": {
        "colab": {
          "base_uri": "https://localhost:8080/"
        },
        "id": "81qFzMmv-DJt",
        "outputId": "c4527a8f-a5b3-4f0a-c6d2-61acc94ff173"
      },
      "execution_count": 7,
      "outputs": [
        {
          "output_type": "stream",
          "name": "stdout",
          "text": [
            "Enter block sizes:100 500 200 300 600\n",
            "Enter process sizes:212 417 112 426\n",
            "Process No.:  1\n",
            "Process size:  212\n",
            "Memory block:  5\n",
            "\n",
            "Process No.:  2\n",
            "Process size:  417\n",
            "Memory block:  2\n",
            "\n",
            "Process No.:  3\n",
            "Process size:  112\n",
            "Memory block:  5\n",
            "\n",
            "Process No.:  4\n",
            "Process size:  426\n",
            "Not Allocated\n",
            "\n"
          ]
        }
      ]
    },
    {
      "cell_type": "code",
      "source": [
        "#First fit\n",
        "blockSize = list(map(int,input(\"Enter block sizes:\").split()))\n",
        "processSize = list(map(int,input(\"Enter process sizes:\").split()))\n",
        "m = len(blockSize)\n",
        "n = len(processSize)\n",
        "allocation = [-1] * n\n",
        "for i in range(n):\n",
        "        for j in range(m):\n",
        "            if blockSize[j] >= processSize[i]:\n",
        "                allocation[i] = j\n",
        "                blockSize[j] -= processSize[i]\n",
        "                break\n",
        "for i in range(n):\n",
        "    print(\"Process No.: \",i+1)\n",
        "    print(\"Process size: \",processSize[i])\n",
        "    if allocation[i] != -1:\n",
        "        print(\"Memory block: \",allocation[i] + 1)\n",
        "        print()\n",
        "    else:\n",
        "        print(\"Not Allocated\")\n",
        "        print()"
      ],
      "metadata": {
        "colab": {
          "base_uri": "https://localhost:8080/"
        },
        "id": "4o26-Z5K-UHc",
        "outputId": "500c35f7-721e-41bf-e08c-014fd6996beb"
      },
      "execution_count": 8,
      "outputs": [
        {
          "output_type": "stream",
          "name": "stdout",
          "text": [
            "Enter block sizes:100 500 200 300 600\n",
            "Enter process sizes:212 417 112 426\n",
            "Process No.:  1\n",
            "Process size:  212\n",
            "Memory block:  2\n",
            "\n",
            "Process No.:  2\n",
            "Process size:  417\n",
            "Memory block:  5\n",
            "\n",
            "Process No.:  3\n",
            "Process size:  112\n",
            "Memory block:  2\n",
            "\n",
            "Process No.:  4\n",
            "Process size:  426\n",
            "Not Allocated\n",
            "\n"
          ]
        }
      ]
    }
  ]
}