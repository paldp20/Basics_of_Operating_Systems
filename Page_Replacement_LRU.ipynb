{
  "nbformat": 4,
  "nbformat_minor": 0,
  "metadata": {
    "colab": {
      "provenance": []
    },
    "kernelspec": {
      "name": "python3",
      "display_name": "Python 3"
    },
    "language_info": {
      "name": "python"
    }
  },
  "cells": [
    {
      "cell_type": "code",
      "source": [
        "#LRU\n",
        "n=int(input(\"Enter the frame size: \"))\n",
        "pagemiss=0\n",
        "pagehit=0\n",
        "s=[]\n",
        "p=list(map(int, input(\"Enter the processes: \").split()))\n",
        "print(\"Process List: \",p)\n",
        "for i in p:\n",
        "  if i not in s:\n",
        "    if len(s)==n:\n",
        "      s.remove(s[0])\n",
        "      s.append(i)\n",
        "    else:\n",
        "      s.append(i)\n",
        "    pagemiss+=1\n",
        "  else:\n",
        "    s.remove(i)\n",
        "    s.append(i)\n",
        "    pagehit+=1\n",
        "print(\"Page hit: \", pagehit)\n",
        "print(\"Page miss: \", pagemiss)"
      ],
      "metadata": {
        "colab": {
          "base_uri": "https://localhost:8080/"
        },
        "id": "LTb_fNbn-keq",
        "outputId": "a9078ce9-1d5c-4435-e111-1384da2e6240"
      },
      "execution_count": 9,
      "outputs": [
        {
          "output_type": "stream",
          "name": "stdout",
          "text": [
            "Enter the frame size: 3\n",
            "Enter the processes: 7 0 1 2 0 3 0 4 2 3 0 3 2 1 2 0 1 7 0 1\n",
            "Process List:  [7, 0, 1, 2, 0, 3, 0, 4, 2, 3, 0, 3, 2, 1, 2, 0, 1, 7, 0, 1]\n",
            "Page hit:  8\n",
            "Page miss:  12\n"
          ]
        }
      ]
    }
  ]
}