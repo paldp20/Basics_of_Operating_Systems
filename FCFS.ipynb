{
  "nbformat": 4,
  "nbformat_minor": 0,
  "metadata": {
    "colab": {
      "provenance": []
    },
    "kernelspec": {
      "name": "python3",
      "display_name": "Python 3"
    },
    "language_info": {
      "name": "python"
    }
  },
  "cells": [
    {
      "cell_type": "code",
      "execution_count": 1,
      "metadata": {
        "colab": {
          "base_uri": "https://localhost:8080/"
        },
        "id": "IQA9XSGJ3pWy",
        "outputId": "c0f4c675-e073-4656-e8f4-6ce3050de62e"
      },
      "outputs": [
        {
          "output_type": "stream",
          "name": "stdout",
          "text": [
            "Enter arrival time and burst time for 1 process: 2 4\n",
            "Enter arrival time and burst time for 2 process: 3 9\n",
            "Enter arrival time and burst time for 3 process: 1 6\n",
            "Enter arrival time and burst time for 4 process: 0 2\n",
            "Enter arrival time and burst time for 5 process: 6 12\n",
            "[[0, 2], [1, 6], [2, 4], [3, 9], [6, 12]]\n",
            "Waiting time:  [0, 1, 6, 9, 15]\n",
            "Completion time:  [2, 8, 12, 21, 33]\n",
            "Turn around time:  [2, 7, 10, 18, 27]\n",
            "Average waiting time=  6.2\n",
            "Averag turn around time=  12.8\n"
          ]
        }
      ],
      "source": [
        "alltimes=[]\n",
        "awt=[]\n",
        "add=[]\n",
        "ta=[]\n",
        "add.append(0)\n",
        "avg=0\n",
        "\n",
        "for i in range(5):\n",
        "  time=[]\n",
        "  a, b=map(int,input(f\"Enter arrival time and burst time for {i+1} process: \").split())\n",
        "  time.append(a)\n",
        "  time.append(b)\n",
        "  alltimes.append(time)\n",
        "alltimes.sort()\n",
        "print(alltimes)\n",
        "\n",
        "for i in range(5):\n",
        "  c=add[i]+alltimes[i][1]\n",
        "  add.append(c)\n",
        "  awt.append(add[i]-alltimes[i][0])\n",
        "add.remove(0)\n",
        "\n",
        "print(\"Waiting time: \",awt)\n",
        "print(\"Completion time: \",add)\n",
        "for i in range(5):\n",
        "  avg=avg+awt[i]\n",
        "  ta.append(add[i]-alltimes[i][0])\n",
        "print(\"Turn around time: \",ta)\n",
        "print(\"Average waiting time= \",sum(awt)/5)\n",
        "print(\"Averag turn around time= \",sum(ta)/5)"
      ]
    }
  ]
}