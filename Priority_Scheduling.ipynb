{
  "nbformat": 4,
  "nbformat_minor": 0,
  "metadata": {
    "colab": {
      "provenance": []
    },
    "kernelspec": {
      "name": "python3",
      "display_name": "Python 3"
    },
    "language_info": {
      "name": "python"
    }
  },
  "cells": [
    {
      "cell_type": "code",
      "source": [
        "all_times=[]\n",
        "n=int(input(\"Enter no. of processes: \"))\n",
        "for i in range(n):\n",
        "  time=[]\n",
        "  a,p,b=map(int,input(f\"Enter arrival time, priority and burst time for {i+1} process: \").split())\n",
        "  time.append(a)\n",
        "  time.append(p)\n",
        "  time.append(b)\n",
        "  all_times.append(time)\n",
        "\n",
        "all_times = sorted (all_times, key = lambda x:x[1])\n",
        "all_times = sorted (all_times)\n",
        "print(all_times)\n",
        "\n",
        "wt = [0] * 5\n",
        "tat = [0] * 5\n",
        "\n",
        "avgw = 0\n",
        "avgt = 0\n",
        "\n",
        "service = [0] * 5\n",
        "\n",
        "for i in range(1, n):\n",
        "    service[i] = all_times[i-1][2] + service[i-1]\n",
        "    wt[i] = service[i]-all_times[i][0]+1\n",
        "\n",
        "print(wt)\n",
        "\n",
        "for i in range(n):\n",
        "    tat[i] = all_times[i][2] + wt[i]\n",
        "\n",
        "for i in range(n):\n",
        "    avgw += wt[i]\n",
        "    avgt += tat[i]\n",
        "\n",
        "print(\"Waiting time: \",wt)\n",
        "print(\"Turnaround time: \",tat)\n",
        "print(\"Average waiting time: \",avgw/n)\n",
        "print(\"Average turnaround time: \",avgt/n)"
      ],
      "metadata": {
        "colab": {
          "base_uri": "https://localhost:8080/"
        },
        "id": "F3AaUZiX6KS9",
        "outputId": "d121b1b6-6139-43ff-d80f-0d9c1669f2b0"
      },
      "execution_count": 4,
      "outputs": [
        {
          "output_type": "stream",
          "name": "stdout",
          "text": [
            "Enter no. of processes: 5\n",
            "Enter arrival time, priority and burst time for 1 process: 0 2 11\n",
            "Enter arrival time, priority and burst time for 2 process: 5 0 28\n",
            "Enter arrival time, priority and burst time for 3 process: 12 3 2\n",
            "Enter arrival time, priority and burst time for 4 process: 2 1 10\n",
            "Enter arrival time, priority and burst time for 5 process: 9 4 16\n",
            "[[0, 2, 11], [2, 1, 10], [5, 0, 28], [9, 4, 16], [12, 3, 2]]\n",
            "[0, 10, 17, 41, 54]\n",
            "Waiting time:  [0, 10, 17, 41, 54]\n",
            "Turnaround time:  [11, 20, 45, 57, 56]\n",
            "Average waiting time:  24.4\n",
            "Average turnaround time:  37.8\n"
          ]
        }
      ]
    }
  ]
}