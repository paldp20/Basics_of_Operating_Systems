{
  "nbformat": 4,
  "nbformat_minor": 0,
  "metadata": {
    "colab": {
      "provenance": []
    },
    "kernelspec": {
      "name": "python3",
      "display_name": "Python 3"
    },
    "language_info": {
      "name": "python"
    }
  },
  "cells": [
    {
      "cell_type": "markdown",
      "source": [
        "###Disk Scheduling"
      ],
      "metadata": {
        "id": "EfM5BfB_JAjg"
      }
    },
    {
      "cell_type": "code",
      "source": [
        "#FCFS\n",
        "def fcfs(arr, head):\n",
        "  seek_count = 0;\n",
        "  distance, cur_track = 0, 0;\n",
        "\n",
        "  for i in range(len(arr)):\n",
        "    cur_track = arr[i];\n",
        "    distance = abs(cur_track - head);\n",
        "    seek_count += distance;\n",
        "    head = cur_track;\n",
        "\n",
        "  print(\"Total number of seek operations: \",seek_count);\n",
        "  print(\"Seek Sequence is\",arr);\n",
        "\n",
        "arr=list(map(int,input(\"Enter seek requests: \").split()))\n",
        "head=int(input(\"Enter head: \"))\n",
        "fcfs(arr,head)"
      ],
      "metadata": {
        "colab": {
          "base_uri": "https://localhost:8080/"
        },
        "id": "Hi_sXkVF_Ib2",
        "outputId": "054c2763-210e-4bd7-c010-35f706d0ac51"
      },
      "execution_count": 10,
      "outputs": [
        {
          "output_type": "stream",
          "name": "stdout",
          "text": [
            "Enter seek requests: 176 79 34 60 92 11 41 114\n",
            "Enter head: 50\n",
            "Total number of seek operations:  510\n",
            "Seek Sequence is [176, 79, 34, 60, 92, 11, 41, 114]\n"
          ]
        }
      ]
    },
    {
      "cell_type": "code",
      "source": [
        "#SSTF\n",
        "def calculateDifference(queue, head, diff):\n",
        "  for i in range(len(diff)):\n",
        "    diff[i][0] = abs(queue[i] - head)\n",
        "\n",
        "def findMin(diff):\n",
        "\n",
        "  index = -1\n",
        "  minimum = 999999999\n",
        "\n",
        "  for i in range(len(diff)):\n",
        "    if (not diff[i][1] and\n",
        "        minimum > diff[i][0]):\n",
        "      minimum = diff[i][0]\n",
        "      index = i\n",
        "  return index\n",
        "\n",
        "def sstf(arr, head):\n",
        "    if (len(arr) == 0):\n",
        "      return\n",
        "\n",
        "    l = len(arr)\n",
        "    diff = [0] * l\n",
        "\n",
        "    for i in range(l):\n",
        "      diff[i] = [0, 0]\n",
        "\n",
        "    seek_count = 0\n",
        "    seek_sequence = [0] * (l + 1)\n",
        "\n",
        "    for i in range(l):\n",
        "      seek_sequence[i] = head\n",
        "      calculateDifference(arr, head, diff)\n",
        "      index = findMin(diff)\n",
        "\n",
        "      diff[index][1] = True\n",
        "      seek_count += diff[index][0]\n",
        "      head = arr[index]\n",
        "    seek_sequence[len(seek_sequence) - 1] = head\n",
        "    print(\"Total number of seek operations: \",seek_count)\n",
        "    print(\"Seek Sequence is\",seek_sequence)\n",
        "\n",
        "arr=list(map(int,input(\"Enter seek requests: \").split()))\n",
        "head=int(input(\"Enter head: \"))\n",
        "sstf(arr,head)"
      ],
      "metadata": {
        "colab": {
          "base_uri": "https://localhost:8080/"
        },
        "id": "XoyqbiyCJLF1",
        "outputId": "1d2e6772-60f4-4c2c-9dfc-6fdcdd8cc9f0"
      },
      "execution_count": 11,
      "outputs": [
        {
          "output_type": "stream",
          "name": "stdout",
          "text": [
            "Enter seek requests: 176 79 34 60 92 11 41 114\n",
            "Enter head: 50\n",
            "Total number of seek operations:  204\n",
            "Seek Sequence is [50, 41, 34, 11, 60, 79, 92, 114, 176]\n"
          ]
        }
      ]
    },
    {
      "cell_type": "code",
      "source": [
        "#CLOOK\n",
        "def clook(arr, head):\n",
        "\n",
        "  seek_count = 0\n",
        "  distance = 0\n",
        "  cur_track = 0\n",
        "\n",
        "  left = []\n",
        "  right = []\n",
        "  seek_sequence = []\n",
        "\n",
        "  for i in range(len(arr)):\n",
        "    if (arr[i] < head):\n",
        "      left.append(arr[i])\n",
        "    if (arr[i] > head):\n",
        "      right.append(arr[i])\n",
        "\n",
        "  left.sort()\n",
        "  right.sort()\n",
        "\n",
        "  for i in range(len(right)):\n",
        "    cur_track = right[i]\n",
        "    seek_sequence.append(cur_track)\n",
        "    distance = abs(cur_track - head)\n",
        "    seek_count += distance\n",
        "    head = cur_track\n",
        "  seek_count += abs(head - left[0])\n",
        "  head = left[0]\n",
        "\n",
        "  for i in range(len(left)):\n",
        "    cur_track = left[i]\n",
        "    seek_sequence.append(cur_track)\n",
        "    distance = abs(cur_track - head)\n",
        "    seek_count += distance\n",
        "    head = cur_track\n",
        "\n",
        "  print(\"Total number of seek operations: \",seek_count)\n",
        "  print(\"Seek Sequence is\",seek_sequence)\n",
        "\n",
        "arr=list(map(int,input(\"Enter seek requests: \").split()))\n",
        "head=int(input(\"Enter head: \"))\n",
        "clook(arr, head)"
      ],
      "metadata": {
        "colab": {
          "base_uri": "https://localhost:8080/"
        },
        "id": "dGpa4JPJJadm",
        "outputId": "8c581150-7f68-42d0-fdaa-d7dc4d2db61c"
      },
      "execution_count": 12,
      "outputs": [
        {
          "output_type": "stream",
          "name": "stdout",
          "text": [
            "Enter seek requests: 176 79 34 60 92 11 41 114\n",
            "Enter head: 50\n",
            "Total number of seek operations:  321\n",
            "Seek Sequence is [60, 79, 92, 114, 176, 11, 34, 41]\n"
          ]
        }
      ]
    }
  ]
}