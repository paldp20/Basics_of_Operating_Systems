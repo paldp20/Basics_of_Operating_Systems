{
  "nbformat": 4,
  "nbformat_minor": 0,
  "metadata": {
    "colab": {
      "provenance": []
    },
    "kernelspec": {
      "name": "python3",
      "display_name": "Python 3"
    },
    "language_info": {
      "name": "python"
    }
  },
  "cells": [
    {
      "cell_type": "code",
      "source": [
        "processes = int(input(\"No. of processes: \"))\n",
        "resources = int(input(\"No. of resources: \"))\n",
        "max_resources = [int(i) for i in input(\"Maximum resources: \").split()]\n",
        "\n",
        "print(\"\\nAllocated resources for each process: \")\n",
        "currently_allocated = [[int(i) for i in input(f\"process {j + 1} : \").split()] for j in range(processes)]\n",
        "\n",
        "print(\"\\nMaximum resources for each process: \")\n",
        "max_need = [[int(i) for i in input(f\"process {j + 1} : \").split()] for j in range(processes)]\n",
        "\n",
        "allocated = [0] * resources\n",
        "for i in range(processes):\n",
        "    for j in range(resources):\n",
        "        allocated[j] += currently_allocated[i][j]\n",
        "print(f\"\\nTotal allocated resources : {allocated}\")\n",
        "\n",
        "available = [max_resources[i] - allocated[i] for i in range(resources)]\n",
        "print(f\"Total available resources : {available}\\n\")\n",
        "\n",
        "running = [True] * processes\n",
        "count = processes\n",
        "while count != 0:\n",
        "    safe = False\n",
        "    for i in range(processes):\n",
        "        if running[i]:\n",
        "            executing = True\n",
        "            for j in range(resources):\n",
        "                if max_need[i][j] - currently_allocated[i][j] > available[j]:\n",
        "                    executing = False\n",
        "                    break\n",
        "            if executing:\n",
        "                print(f\"process {i + 1} is executing\")\n",
        "                running[i] = False\n",
        "                count -= 1\n",
        "                safe = True\n",
        "                for j in range(resources):\n",
        "                    available[j] += currently_allocated[i][j]\n",
        "                break\n",
        "    if not safe:\n",
        "        print(\"The processes are in an unsafe state.\")\n",
        "        break\n",
        "\n",
        "    print(f\"The process is in a safe state.\\nAvailable resources: {available}\\n\")"
      ],
      "metadata": {
        "colab": {
          "base_uri": "https://localhost:8080/"
        },
        "id": "O3P_h-do7X7s",
        "outputId": "3fce71af-f988-428d-94eb-627edf1cd898"
      },
      "execution_count": 5,
      "outputs": [
        {
          "output_type": "stream",
          "name": "stdout",
          "text": [
            "No. of processes: 5\n",
            "No. of resources: 3\n",
            "Maximum resources: 10 6 7\n",
            "\n",
            "Allocated resources for each process: \n",
            "process 1 : 1 1 2\n",
            "process 2 : 2 1 2\n",
            "process 3 : 4 0 1\n",
            "process 4 : 0 2 0\n",
            "process 5 : 1 1 2\n",
            "\n",
            "Maximum resources for each process: \n",
            "process 1 : 4 3 3\n",
            "process 2 : 3 2 2\n",
            "process 3 : 9 0 2\n",
            "process 4 : 7 5 3\n",
            "process 5 : 1 1 2\n",
            "\n",
            "Total allocated resources : [8, 5, 7]\n",
            "Total available resources : [2, 1, 0]\n",
            "\n",
            "process 2 is executing\n",
            "The process is in a safe state.\n",
            "Available resources: [4, 2, 2]\n",
            "\n",
            "process 1 is executing\n",
            "The process is in a safe state.\n",
            "Available resources: [5, 3, 4]\n",
            "\n",
            "process 3 is executing\n",
            "The process is in a safe state.\n",
            "Available resources: [9, 3, 5]\n",
            "\n",
            "process 4 is executing\n",
            "The process is in a safe state.\n",
            "Available resources: [9, 5, 5]\n",
            "\n",
            "process 5 is executing\n",
            "The process is in a safe state.\n",
            "Available resources: [10, 6, 7]\n",
            "\n"
          ]
        }
      ]
    }
  ]
}