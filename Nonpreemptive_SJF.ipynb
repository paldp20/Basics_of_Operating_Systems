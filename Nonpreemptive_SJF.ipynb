{
  "nbformat": 4,
  "nbformat_minor": 0,
  "metadata": {
    "colab": {
      "provenance": []
    },
    "kernelspec": {
      "name": "python3",
      "display_name": "Python 3"
    },
    "language_info": {
      "name": "python"
    }
  },
  "cells": [
    {
      "cell_type": "code",
      "source": [
        "#nonpremptive SJF\n",
        "all_times=[]\n",
        "btime=0\n",
        "k=1\n",
        "ta=[]\n",
        "wt=[]\n",
        "add=[]\n",
        "add.append(0)\n",
        "avgw=0\n",
        "avgt=0\n",
        "\n",
        "n=int(input(\"Enter no. of processes: \"))\n",
        "\n",
        "for i in range(n):\n",
        "  time=[]\n",
        "  a,b=map(int,input(f\"Enter arrival time and burst time for {i+1} process: \").split())\n",
        "  time.append(a)\n",
        "  time.append(b)\n",
        "  all_times.append(time)\n",
        "all_times.sort()\n",
        "print(all_times)\n",
        "\n",
        "for j in range(n-1):\n",
        "  btime=btime+all_times[j][1]\n",
        "  min=all_times[k][1]\n",
        "  for i in range(k,n):\n",
        "    if btime>=all_times[i][0] and all_times[i][1]<min:\n",
        "      temp=all_times[k]\n",
        "      all_times[k]=all_times[i]\n",
        "      all_times[i]=temp\n",
        "  k+=1\n",
        "\n",
        "for i in range(n):\n",
        "  sum=add[i]+all_times[i][1]\n",
        "  add.append(sum)\n",
        "  wt.append(add[i]-all_times[i][0])\n",
        "add.remove(0)\n",
        "for i in range(n):\n",
        "  ta.append(add[i]-all_times[i][0])\n",
        "for i in range(n):\n",
        "  avgw=avgw+wt[i]\n",
        "  avgt=avgt+ta[i]\n",
        "print(\"Waiting time: \",wt)\n",
        "print(\"Turnaround time: \",ta)\n",
        "print(\"Completion time: \",add)\n",
        "print(\"Average waiting time: \",avgw/n)\n",
        "print(\"Average turnaround time: \",avgt/n)"
      ],
      "metadata": {
        "colab": {
          "base_uri": "https://localhost:8080/"
        },
        "id": "TRxn0Fx55ETt",
        "outputId": "06f1173f-0fa6-423a-bf15-23db026d34d5"
      },
      "execution_count": 2,
      "outputs": [
        {
          "output_type": "stream",
          "name": "stdout",
          "text": [
            "Enter no. of processes: 5\n",
            "Enter arrival time and burst time for 1 process: 2 6\n",
            "Enter arrival time and burst time for 2 process: 5 2\n",
            "Enter arrival time and burst time for 3 process: 1 8\n",
            "Enter arrival time and burst time for 4 process: 0 3\n",
            "Enter arrival time and burst time for 5 process: 4 4\n",
            "[[0, 3], [1, 8], [2, 6], [4, 4], [5, 2]]\n",
            "Waiting time:  [0, 1, 4, 7, 14]\n",
            "Turnaround time:  [3, 7, 6, 11, 22]\n",
            "Completion time:  [3, 9, 11, 15, 23]\n",
            "Average waiting time:  5.2\n",
            "Average turnaround time:  9.8\n"
          ]
        }
      ]
    }
  ]
}