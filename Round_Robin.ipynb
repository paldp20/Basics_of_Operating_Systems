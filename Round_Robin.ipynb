{
  "nbformat": 4,
  "nbformat_minor": 0,
  "metadata": {
    "colab": {
      "provenance": []
    },
    "kernelspec": {
      "name": "python3",
      "display_name": "Python 3"
    },
    "language_info": {
      "name": "python"
    }
  },
  "cells": [
    {
      "cell_type": "code",
      "source": [
        "all_times=[]\n",
        "q=int(input(\"Enter time quantum: \"))\n",
        "n=int(input(\"Enter no. of processes: \"))\n",
        "\n",
        "for i in range(n):\n",
        "  time=[]\n",
        "  a,b=map(int,input(f\"Enter arrival time and burst time for {i+1} process: \").split())\n",
        "  time.append(a)\n",
        "  time.append(b)\n",
        "  all_times.append(time)\n",
        "\n",
        "print(all_times)\n",
        "\n",
        "bt=[0]*n\n",
        "wt=[0]*n\n",
        "tat=[0]*n\n",
        "\n",
        "for i in range(n):\n",
        "  bt[i]=all_times[i][1]\n",
        "t=0\n",
        "while(1):\n",
        "  done=True\n",
        "  for i in range(n):\n",
        "    if (bt[i]>0):\n",
        "      done=False\n",
        "      if all_times[i][0]<=t:\n",
        "        if bt[i]>q :\n",
        "          t+=q\n",
        "          bt[i]-=q\n",
        "        else:\n",
        "          t+=bt[i]\n",
        "          wt[i]=t-all_times[i][1]-all_times[i][0]\n",
        "          bt[i]=0\n",
        "      else:\n",
        "        t+=1\n",
        "  if done==True:\n",
        "    break\n",
        "for i in range(n):\n",
        "  tat[i]=all_times[i][1]+wt[i]\n",
        "twt=0\n",
        "atat=0\n",
        "for i in range(n):\n",
        "  twt=twt+wt[i]\n",
        "  atat=atat+tat[i]\n",
        "print(\"Waiting time: \",wt)\n",
        "print(\"Turnaroundtime: \",tat)\n",
        "print(\"Avg wt: \",twt/n)\n",
        "print(\"Avg tat: \",atat/n)"
      ],
      "metadata": {
        "colab": {
          "base_uri": "https://localhost:8080/"
        },
        "id": "1jfvBrQP5Mr0",
        "outputId": "88cb2b35-87e7-42c1-ec5c-4a784cb3a606"
      },
      "execution_count": 3,
      "outputs": [
        {
          "output_type": "stream",
          "name": "stdout",
          "text": [
            "Enter time quantum: 2\n",
            "Enter no. of processes: 5\n",
            "Enter arrival time and burst time for 1 process: 0 5\n",
            "Enter arrival time and burst time for 2 process: 1 3\n",
            "Enter arrival time and burst time for 3 process: 2 1\n",
            "Enter arrival time and burst time for 4 process: 3 2\n",
            "Enter arrival time and burst time for 5 process: 4 3\n",
            "[[0, 5], [1, 3], [2, 1], [3, 2], [4, 3]]\n",
            "Waiting time:  [9, 8, 2, 2, 6]\n",
            "Turnaroundtime:  [14, 11, 3, 4, 9]\n",
            "Avg wt:  5.4\n",
            "Avg tat:  8.2\n"
          ]
        }
      ]
    }
  ]
}